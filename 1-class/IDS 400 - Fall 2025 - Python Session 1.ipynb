{
  "nbformat": 4,
  "nbformat_minor": 0,
  "metadata": {
    "colab": {
      "provenance": []
    },
    "kernelspec": {
      "name": "python3",
      "display_name": "Python 3"
    },
    "language_info": {
      "name": "python"
    }
  },
  "cells": [
    {
      "cell_type": "markdown",
      "source": [
        "# Heading 1\n",
        "## Heading 2\n",
        "\n",
        "This is a plain text.\n",
        "\n",
        "1. This is a numbered bullet\n",
        "2. This is another numbered bullet\n",
        "\n",
        "- This is a bullet point\n",
        "- This is another bullet point"
      ],
      "metadata": {
        "id": "wpsDUmT0S7XJ"
      }
    },
    {
      "cell_type": "markdown",
      "source": [
        "# Making Variables"
      ],
      "metadata": {
        "id": "9a3LEgxCTw_k"
      }
    },
    {
      "cell_type": "markdown",
      "source": [
        "## Basics"
      ],
      "metadata": {
        "id": "H1zTm82PUUB9"
      }
    },
    {
      "cell_type": "code",
      "execution_count": 1,
      "metadata": {
        "id": "4bkGo3IoR9BL"
      },
      "outputs": [],
      "source": [
        "x = 5"
      ]
    },
    {
      "cell_type": "code",
      "source": [
        "print(x)"
      ],
      "metadata": {
        "colab": {
          "base_uri": "https://localhost:8080/"
        },
        "id": "9NHGMTMNT3Ow",
        "outputId": "dbcb7aa5-f616-4677-d6f7-09af25038768"
      },
      "execution_count": 2,
      "outputs": [
        {
          "output_type": "stream",
          "name": "stdout",
          "text": [
            "5\n"
          ]
        }
      ]
    },
    {
      "cell_type": "code",
      "source": [
        "y = \"text\""
      ],
      "metadata": {
        "id": "LmtglkzFT5lp"
      },
      "execution_count": 3,
      "outputs": []
    },
    {
      "cell_type": "code",
      "source": [
        "print(y)"
      ],
      "metadata": {
        "colab": {
          "base_uri": "https://localhost:8080/"
        },
        "id": "wdhC7_bwT8uY",
        "outputId": "09cbe9c1-5820-4fdd-ad02-a8af11c930f0"
      },
      "execution_count": 4,
      "outputs": [
        {
          "output_type": "stream",
          "name": "stdout",
          "text": [
            "text\n"
          ]
        }
      ]
    },
    {
      "cell_type": "code",
      "source": [
        "z = 'text'"
      ],
      "metadata": {
        "id": "RvD1VsqpUCQ5"
      },
      "execution_count": 5,
      "outputs": []
    },
    {
      "cell_type": "code",
      "source": [
        "print(z)"
      ],
      "metadata": {
        "colab": {
          "base_uri": "https://localhost:8080/"
        },
        "id": "xTohGtFyUERe",
        "outputId": "35ff331a-5456-4ac3-e92f-42a4f77f6a6d"
      },
      "execution_count": 6,
      "outputs": [
        {
          "output_type": "stream",
          "name": "stdout",
          "text": [
            "text\n"
          ]
        }
      ]
    },
    {
      "cell_type": "code",
      "source": [
        "print(\"The code for this course is 'IDS 400'\")"
      ],
      "metadata": {
        "colab": {
          "base_uri": "https://localhost:8080/"
        },
        "id": "2a-b3GBiUGYe",
        "outputId": "9d485543-0354-4039-e036-46a58948f063"
      },
      "execution_count": 7,
      "outputs": [
        {
          "output_type": "stream",
          "name": "stdout",
          "text": [
            "The code for this course is 'IDS 400'\n"
          ]
        }
      ]
    },
    {
      "cell_type": "markdown",
      "source": [
        "## Naming Conventions"
      ],
      "metadata": {
        "id": "J7MFOauuURWJ"
      }
    },
    {
      "cell_type": "markdown",
      "source": [
        "1. You can not start a variable name with a number\n",
        "2. Most special are also not allowed to be part of the variable name like &, @ etc. However, _ is allowed\n",
        "3. You can not use the name of an inbuilt keyword\n",
        "\n",
        "There are a few conventions to naming:\n",
        "1. Names should be descriptive\n",
        "2. We use either camel case (varExampleName) or all small letters and \"_\" sign so (var_example_name)"
      ],
      "metadata": {
        "id": "5IdkgQwWUeuK"
      }
    },
    {
      "cell_type": "code",
      "source": [
        "1x = 5"
      ],
      "metadata": {
        "colab": {
          "base_uri": "https://localhost:8080/",
          "height": 106
        },
        "id": "e2FGTuO_VEs6",
        "outputId": "c5881a35-16bc-4e76-8a19-750af34b5fa1"
      },
      "execution_count": 8,
      "outputs": [
        {
          "output_type": "error",
          "ename": "SyntaxError",
          "evalue": "invalid decimal literal (ipython-input-1018838559.py, line 1)",
          "traceback": [
            "\u001b[0;36m  File \u001b[0;32m\"/tmp/ipython-input-1018838559.py\"\u001b[0;36m, line \u001b[0;32m1\u001b[0m\n\u001b[0;31m    1x = 5\u001b[0m\n\u001b[0m    ^\u001b[0m\n\u001b[0;31mSyntaxError\u001b[0m\u001b[0;31m:\u001b[0m invalid decimal literal\n"
          ]
        }
      ]
    },
    {
      "cell_type": "code",
      "source": [
        "x$ = 5"
      ],
      "metadata": {
        "id": "biDJNjXuVPPl"
      },
      "execution_count": null,
      "outputs": []
    },
    {
      "cell_type": "code",
      "source": [
        "and = 10"
      ],
      "metadata": {
        "id": "h-tKpH6iVVXn"
      },
      "execution_count": null,
      "outputs": []
    },
    {
      "cell_type": "markdown",
      "source": [
        "# Working with Libraries"
      ],
      "metadata": {
        "id": "5HRtAQP9VeyM"
      }
    },
    {
      "cell_type": "markdown",
      "source": [
        "Just like in R, python has libraries that have functions that we can use. Also, just like in R, you only ever need to install a library once. But you must load it every time you restart Colab.\n",
        "\n",
        "In python, you install a library by the command:\n",
        "\n",
        "- !pip install library_name\n",
        "\n",
        "In python, you load a library with the command:\n",
        "\n",
        "- import library_name"
      ],
      "metadata": {
        "id": "3coZs8CSViZh"
      }
    },
    {
      "cell_type": "code",
      "source": [
        "# Installing pandas\n",
        "!pip install pandas"
      ],
      "metadata": {
        "id": "aJjZfdkwV8Y5"
      },
      "execution_count": null,
      "outputs": []
    },
    {
      "cell_type": "code",
      "source": [
        "# Loading the library\n",
        "import pandas"
      ],
      "metadata": {
        "id": "Mcv7CTRxWF3V"
      },
      "execution_count": null,
      "outputs": []
    },
    {
      "cell_type": "markdown",
      "source": [
        "## Using library aliases"
      ],
      "metadata": {
        "id": "sOG5GSYUWMDV"
      }
    },
    {
      "cell_type": "markdown",
      "source": [
        "Whenever you call a function from a library in python, you need to give the name of the library. For example you would say pandas.function_name every time you use a function from pandas. It can become difficult or tedious to write library names every time so you can also give it an alias"
      ],
      "metadata": {
        "id": "zvMfUX2xWPjY"
      }
    },
    {
      "cell_type": "code",
      "source": [
        "import pandas as pd"
      ],
      "metadata": {
        "id": "GC-bNIznWfdF"
      },
      "execution_count": null,
      "outputs": []
    },
    {
      "cell_type": "markdown",
      "source": [
        "If I import pandas as pd, everytime I want to use a function from pandas I would just say pd.function_name"
      ],
      "metadata": {
        "id": "3HQ0FqypWiJP"
      }
    },
    {
      "cell_type": "markdown",
      "source": [
        "## Example of using a library"
      ],
      "metadata": {
        "id": "zCI_zcR9Wthy"
      }
    },
    {
      "cell_type": "code",
      "source": [
        "# keyword is one of the libraries that comes pre-installed\n",
        "import keyword as kw"
      ],
      "metadata": {
        "id": "XmOnIlKqWwXo"
      },
      "execution_count": null,
      "outputs": []
    },
    {
      "cell_type": "markdown",
      "source": [
        "keyword library has a list of keywords that you are not allowed to use as variable names"
      ],
      "metadata": {
        "id": "K0i2nLGLXGVK"
      }
    },
    {
      "cell_type": "code",
      "source": [
        "kw.kwlist"
      ],
      "metadata": {
        "id": "GQygD5zdXAs-"
      },
      "execution_count": null,
      "outputs": []
    },
    {
      "cell_type": "markdown",
      "source": [
        "# Lists"
      ],
      "metadata": {
        "id": "lXS0Xm1aYNdw"
      }
    },
    {
      "cell_type": "markdown",
      "source": [
        "## Making a list"
      ],
      "metadata": {
        "id": "mIWzuWrWYRga"
      }
    },
    {
      "cell_type": "markdown",
      "source": [
        "A list is just a collection of different values which don't have to be of the same data type."
      ],
      "metadata": {
        "id": "zcOaFQGRYuah"
      }
    },
    {
      "cell_type": "code",
      "source": [
        "list1 = [10,20,30]"
      ],
      "metadata": {
        "id": "jYW3L1OoYTF5"
      },
      "execution_count": null,
      "outputs": []
    },
    {
      "cell_type": "code",
      "source": [
        "list1"
      ],
      "metadata": {
        "id": "4CrfLWzyYXF8"
      },
      "execution_count": null,
      "outputs": []
    },
    {
      "cell_type": "code",
      "source": [
        "list2 = [1,\"two\", 3.05, True]"
      ],
      "metadata": {
        "id": "L-ZXvFXuYZSN"
      },
      "execution_count": null,
      "outputs": []
    },
    {
      "cell_type": "code",
      "source": [
        "list2"
      ],
      "metadata": {
        "id": "1jMazTvQYjjS"
      },
      "execution_count": null,
      "outputs": []
    },
    {
      "cell_type": "code",
      "source": [
        "list3 = []"
      ],
      "metadata": {
        "id": "ffOAsRCyYpZj"
      },
      "execution_count": null,
      "outputs": []
    },
    {
      "cell_type": "code",
      "source": [
        "list3"
      ],
      "metadata": {
        "id": "D4DG59qqYrQR"
      },
      "execution_count": null,
      "outputs": []
    },
    {
      "cell_type": "markdown",
      "source": [
        "## Indexing and slicing a list"
      ],
      "metadata": {
        "id": "6OlNajZyY1Cb"
      }
    },
    {
      "cell_type": "code",
      "source": [
        "a = [1,4,7,9,'a', 'b', 'c']\n",
        "print(a)"
      ],
      "metadata": {
        "id": "JY84p7FdY6IU"
      },
      "execution_count": null,
      "outputs": []
    },
    {
      "cell_type": "markdown",
      "source": [
        "***Imp: Python starts counting at zero***"
      ],
      "metadata": {
        "id": "YB0Sr4z2ZDnv"
      }
    },
    {
      "cell_type": "code",
      "source": [
        "a[0]"
      ],
      "metadata": {
        "id": "ZZRd0nuYZCmJ"
      },
      "execution_count": null,
      "outputs": []
    },
    {
      "cell_type": "markdown",
      "source": [
        "***Imp: In indexing, python will NOT return the last index***"
      ],
      "metadata": {
        "id": "p7fWcCxmZWJ1"
      }
    },
    {
      "cell_type": "code",
      "source": [
        "a[1:4]"
      ],
      "metadata": {
        "id": "_n6fl2LTZPbj"
      },
      "execution_count": null,
      "outputs": []
    },
    {
      "cell_type": "code",
      "source": [
        "a[0:2]"
      ],
      "metadata": {
        "id": "To7tKvY4ZiXJ"
      },
      "execution_count": null,
      "outputs": []
    },
    {
      "cell_type": "code",
      "source": [
        "a[:3]"
      ],
      "metadata": {
        "id": "FJBnWLs-ZqAb"
      },
      "execution_count": null,
      "outputs": []
    },
    {
      "cell_type": "code",
      "source": [
        "a[3:]"
      ],
      "metadata": {
        "id": "AFQ7ZosBZuCw"
      },
      "execution_count": null,
      "outputs": []
    },
    {
      "cell_type": "markdown",
      "source": [
        "## Common methods used for working with lists"
      ],
      "metadata": {
        "id": "Dy5aNffvaLD3"
      }
    },
    {
      "cell_type": "markdown",
      "source": [
        "In R, if I had a vector x = c(1,2,3) and then I made an addition to it as y = c(x, 4) and I printed y I would get 1,2,3,4.\n",
        "\n",
        "This technique does not work in python. You end up with a nested list if you do this."
      ],
      "metadata": {
        "id": "gDkk_5enaSk2"
      }
    },
    {
      "cell_type": "code",
      "source": [
        "b = [a, 100]\n",
        "print(b)"
      ],
      "metadata": {
        "id": "AwHvpevUaPYH"
      },
      "execution_count": null,
      "outputs": []
    },
    {
      "cell_type": "code",
      "source": [
        "b[0]"
      ],
      "metadata": {
        "id": "ds9ISUOuasdT"
      },
      "execution_count": null,
      "outputs": []
    },
    {
      "cell_type": "code",
      "source": [
        "b[1]"
      ],
      "metadata": {
        "id": "2LdMJwI2azdC"
      },
      "execution_count": null,
      "outputs": []
    },
    {
      "cell_type": "code",
      "source": [
        "b[0][0:3]"
      ],
      "metadata": {
        "id": "iwBI4jiVa5bA"
      },
      "execution_count": null,
      "outputs": []
    },
    {
      "cell_type": "code",
      "source": [
        "# append an element to a vector\n",
        "a.append(100)"
      ],
      "metadata": {
        "id": "YaE8wk5EbFVM"
      },
      "execution_count": null,
      "outputs": []
    },
    {
      "cell_type": "code",
      "source": [
        "a"
      ],
      "metadata": {
        "id": "fchIV4TfbRvN"
      },
      "execution_count": null,
      "outputs": []
    },
    {
      "cell_type": "code",
      "source": [
        "# If I want to add multiple elements, I use extend\n",
        "a.extend([200,300])\n",
        "print(a)"
      ],
      "metadata": {
        "id": "9CL6_yRdbWQh"
      },
      "execution_count": null,
      "outputs": []
    },
    {
      "cell_type": "code",
      "source": [
        "# What if I want to add an element at a particular index\n",
        "# Lets say, I want the number 150 at index 3\n",
        "\n",
        "a.insert(3, 150)\n",
        "print(a)"
      ],
      "metadata": {
        "id": "xabpovyGbix4"
      },
      "execution_count": null,
      "outputs": []
    },
    {
      "cell_type": "code",
      "source": [
        "# I can remove a particular value\n",
        "a.remove(150)\n",
        "print(a)"
      ],
      "metadata": {
        "id": "JHbr3Yo9b15v"
      },
      "execution_count": null,
      "outputs": []
    },
    {
      "cell_type": "code",
      "source": [
        "# I can change the value of an element\n",
        "a[0] = 5\n",
        "print(a)"
      ],
      "metadata": {
        "id": "QuknHBNzb-VV"
      },
      "execution_count": null,
      "outputs": []
    },
    {
      "cell_type": "markdown",
      "source": [
        "# Tuples"
      ],
      "metadata": {
        "id": "fQUeSqejcog7"
      }
    },
    {
      "cell_type": "markdown",
      "source": [
        "A tuple is like a list except that it is immutable. Once a tuple is made, you can not add an item, delete an item, or change an item."
      ],
      "metadata": {
        "id": "9-W3Kb0LhKr9"
      }
    },
    {
      "cell_type": "code",
      "source": [
        "tuple1 = (1,4,6,9)"
      ],
      "metadata": {
        "id": "s-5Vsi4khWnI"
      },
      "execution_count": null,
      "outputs": []
    },
    {
      "cell_type": "code",
      "source": [
        "tuple1[0]"
      ],
      "metadata": {
        "id": "eZy_FxAQhb0M"
      },
      "execution_count": null,
      "outputs": []
    },
    {
      "cell_type": "code",
      "source": [
        "tuple1[1:3]"
      ],
      "metadata": {
        "id": "YVsE9OBdhhJT"
      },
      "execution_count": null,
      "outputs": []
    },
    {
      "cell_type": "code",
      "source": [
        "tuple1.append(100)"
      ],
      "metadata": {
        "id": "wOMvgU2jhmb5"
      },
      "execution_count": null,
      "outputs": []
    },
    {
      "cell_type": "code",
      "source": [
        "tuple1[0] = 10"
      ],
      "metadata": {
        "id": "CLWluciBhs5l"
      },
      "execution_count": null,
      "outputs": []
    },
    {
      "cell_type": "code",
      "source": [
        "tuple1.remove(9)"
      ],
      "metadata": {
        "id": "EvEq7_YshzHj"
      },
      "execution_count": null,
      "outputs": []
    },
    {
      "cell_type": "code",
      "source": [
        "tuple2 = ([1,2], [3,4])"
      ],
      "metadata": {
        "id": "XXf0UqXdiFT_"
      },
      "execution_count": null,
      "outputs": []
    },
    {
      "cell_type": "code",
      "source": [
        "tuple2[0]"
      ],
      "metadata": {
        "id": "x0QvLVHjiISU"
      },
      "execution_count": null,
      "outputs": []
    },
    {
      "cell_type": "markdown",
      "source": [
        "# Sets\n",
        "\n",
        "Sets are unordered collections of unique items"
      ],
      "metadata": {
        "id": "6US-h66IiUvq"
      }
    },
    {
      "cell_type": "code",
      "source": [
        "set1 = {1,2,3,4}"
      ],
      "metadata": {
        "id": "PiEWcmEoijK0"
      },
      "execution_count": null,
      "outputs": []
    },
    {
      "cell_type": "code",
      "source": [
        "set1[0] # Because a set is unordered - there are no indices. So this does not work"
      ],
      "metadata": {
        "id": "z-UL_LH_imdP"
      },
      "execution_count": null,
      "outputs": []
    },
    {
      "cell_type": "code",
      "source": [
        "4 in set1"
      ],
      "metadata": {
        "id": "OMADUQefire7"
      },
      "execution_count": null,
      "outputs": []
    },
    {
      "cell_type": "code",
      "source": [
        "set1.pop()"
      ],
      "metadata": {
        "id": "UVsHV-uQiu2z"
      },
      "execution_count": null,
      "outputs": []
    },
    {
      "cell_type": "code",
      "source": [
        "set1"
      ],
      "metadata": {
        "id": "MmbpiJjAizIn"
      },
      "execution_count": null,
      "outputs": []
    },
    {
      "cell_type": "code",
      "source": [
        "set2 = set([1,2,3,4, 3, 4])\n",
        "print(set2)"
      ],
      "metadata": {
        "id": "9BNDpWmHjErk"
      },
      "execution_count": null,
      "outputs": []
    },
    {
      "cell_type": "code",
      "source": [
        "set2.add(5)\n",
        "print(set2)"
      ],
      "metadata": {
        "id": "Wwqd05cHjXDh"
      },
      "execution_count": null,
      "outputs": []
    },
    {
      "cell_type": "code",
      "source": [
        "# Union\n",
        "set1 = {1,2,3}\n",
        "set2 = {2,3,4,5}\n",
        "set_union = set1 | set2\n",
        "print(set_union)"
      ],
      "metadata": {
        "id": "GYozXONojeeu"
      },
      "execution_count": null,
      "outputs": []
    },
    {
      "cell_type": "code",
      "source": [
        "set1.union(set2)"
      ],
      "metadata": {
        "id": "e-qTVX2wlBst"
      },
      "execution_count": null,
      "outputs": []
    },
    {
      "cell_type": "code",
      "source": [
        "# Intersection\n",
        "set1 = {1,2,3}\n",
        "set2 = {2,3,4,5}\n",
        "set_intersection = set1 & set2\n",
        "print(set_intersection)"
      ],
      "metadata": {
        "id": "I7CR1xnWjum4"
      },
      "execution_count": null,
      "outputs": []
    },
    {
      "cell_type": "code",
      "source": [
        "set1.intersection(set2)"
      ],
      "metadata": {
        "id": "D2yTtGtglMt9"
      },
      "execution_count": null,
      "outputs": []
    },
    {
      "cell_type": "code",
      "source": [
        "# Set Difference\n",
        "set1 = {1,2,3}\n",
        "set2 = {2,3,4,5}\n",
        "set_diff = set1 - set2\n",
        "print(set_diff)\n",
        "set_diff2 = set2 - set1\n",
        "print(set_diff2)"
      ],
      "metadata": {
        "id": "idq1suYDj5_j"
      },
      "execution_count": null,
      "outputs": []
    },
    {
      "cell_type": "code",
      "source": [
        "# Symmetric Difference\n",
        "set1 = {1,2,3}\n",
        "set2 = {2,3,4,5}\n",
        "set_symm_diff = set1 ^ set2\n",
        "print(set_symm_diff)"
      ],
      "metadata": {
        "id": "Y_7EHFbxkMon"
      },
      "execution_count": null,
      "outputs": []
    }
  ]
}