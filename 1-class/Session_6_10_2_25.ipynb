{
  "nbformat": 4,
  "nbformat_minor": 0,
  "metadata": {
    "colab": {
      "provenance": [],
      "collapsed_sections": [
        "lUGaAP9JhrKr",
        "5XchRlephgCE",
        "UrN1SrUajE-k",
        "7PGnWzlaj0uK"
      ],
      "authorship_tag": "ABX9TyPxZMDkfm0FqpZewke8i3PZ",
      "include_colab_link": true
    },
    "kernelspec": {
      "name": "python3",
      "display_name": "Python 3"
    },
    "language_info": {
      "name": "python"
    }
  },
  "cells": [
    {
      "cell_type": "markdown",
      "metadata": {
        "id": "view-in-github",
        "colab_type": "text"
      },
      "source": [
        "<a href=\"https://colab.research.google.com/github/ttrout5/ids400-python/blob/develop/1-class/Session_6_10_2_25.ipynb\" target=\"_parent\"><img src=\"https://colab.research.google.com/assets/colab-badge.svg\" alt=\"Open In Colab\"/></a>"
      ]
    },
    {
      "cell_type": "markdown",
      "source": [
        "# Making Variables"
      ],
      "metadata": {
        "id": "ArgypOvvgvC7"
      }
    },
    {
      "cell_type": "markdown",
      "source": [
        "## Basics"
      ],
      "metadata": {
        "id": "lUGaAP9JhrKr"
      }
    },
    {
      "cell_type": "code",
      "execution_count": 3,
      "metadata": {
        "colab": {
          "base_uri": "https://localhost:8080/"
        },
        "id": "HnMPZc3pwBvB",
        "outputId": "42953262-321e-4632-ae01-ecfdbeb180f3"
      },
      "outputs": [
        {
          "output_type": "stream",
          "name": "stdout",
          "text": [
            "5\n",
            "text\n",
            "The code for this course is 'IDS 400\n"
          ]
        }
      ],
      "source": [
        "x = 5\n",
        "print(x)"
      ]
    },
    {
      "cell_type": "code",
      "source": [
        "y = \"text\"\n",
        "print(y)"
      ],
      "metadata": {
        "colab": {
          "base_uri": "https://localhost:8080/"
        },
        "id": "xw8R9fomhRU-",
        "outputId": "2f22d17a-dea6-4e54-d79f-e9490fe2c5b4"
      },
      "execution_count": 4,
      "outputs": [
        {
          "output_type": "stream",
          "name": "stdout",
          "text": [
            "text\n"
          ]
        }
      ]
    },
    {
      "cell_type": "code",
      "source": [
        "z = 'text'"
      ],
      "metadata": {
        "id": "G_j7aTCJhUIF"
      },
      "execution_count": 5,
      "outputs": []
    },
    {
      "cell_type": "code",
      "source": [
        "print(\"The code for this course is 'IDS 400'\")"
      ],
      "metadata": {
        "colab": {
          "base_uri": "https://localhost:8080/"
        },
        "id": "WZ92jGJrhXhS",
        "outputId": "c7cf0a55-f9fb-4d75-971f-80219293fe4c"
      },
      "execution_count": 7,
      "outputs": [
        {
          "output_type": "stream",
          "name": "stdout",
          "text": [
            "The code for this course is 'IDS 400'\n"
          ]
        }
      ]
    },
    {
      "cell_type": "markdown",
      "source": [
        "## Naming Conventions"
      ],
      "metadata": {
        "id": "5XchRlephgCE"
      }
    },
    {
      "cell_type": "markdown",
      "source": [
        "1. You cannot start a variable name with a number\n",
        "2. Most special characters are not allowed to be part of the variable name like &, @ etc. However, _ is allowed\n",
        "3. You cannot use the name of an inbuilt keyword\n",
        "\n",
        "There are a few conventions to naming:\n",
        "1. Names should be descriptive\n",
        "2. We use either came case or all all small letter and \"_\" sign (var_example_name)\n"
      ],
      "metadata": {
        "id": "stul9ra9h8v-"
      }
    },
    {
      "cell_type": "code",
      "source": [
        "1x = 5"
      ],
      "metadata": {
        "colab": {
          "base_uri": "https://localhost:8080/",
          "height": 106
        },
        "id": "HfocXys9hkDO",
        "outputId": "5e8d6d95-09d1-4e72-d00f-89446ac819d1"
      },
      "execution_count": 8,
      "outputs": [
        {
          "output_type": "error",
          "ename": "SyntaxError",
          "evalue": "invalid decimal literal (ipython-input-1018838559.py, line 1)",
          "traceback": [
            "\u001b[0;36m  File \u001b[0;32m\"/tmp/ipython-input-1018838559.py\"\u001b[0;36m, line \u001b[0;32m1\u001b[0m\n\u001b[0;31m    1x = 5\u001b[0m\n\u001b[0m    ^\u001b[0m\n\u001b[0;31mSyntaxError\u001b[0m\u001b[0;31m:\u001b[0m invalid decimal literal\n"
          ]
        }
      ]
    },
    {
      "cell_type": "code",
      "source": [
        "x$ = 5"
      ],
      "metadata": {
        "colab": {
          "base_uri": "https://localhost:8080/",
          "height": 106
        },
        "id": "cut04fU4i2oI",
        "outputId": "b736eb47-1205-46e5-b557-cd51e9572ba9"
      },
      "execution_count": 9,
      "outputs": [
        {
          "output_type": "error",
          "ename": "SyntaxError",
          "evalue": "invalid syntax (ipython-input-4092307479.py, line 1)",
          "traceback": [
            "\u001b[0;36m  File \u001b[0;32m\"/tmp/ipython-input-4092307479.py\"\u001b[0;36m, line \u001b[0;32m1\u001b[0m\n\u001b[0;31m    x$ = 5\u001b[0m\n\u001b[0m     ^\u001b[0m\n\u001b[0;31mSyntaxError\u001b[0m\u001b[0;31m:\u001b[0m invalid syntax\n"
          ]
        }
      ]
    },
    {
      "cell_type": "code",
      "source": [
        "and = 10"
      ],
      "metadata": {
        "colab": {
          "base_uri": "https://localhost:8080/",
          "height": 106
        },
        "id": "HzmZ2GQhi9h8",
        "outputId": "548352b6-87bd-488e-eb69-d4d0f81fa007"
      },
      "execution_count": 10,
      "outputs": [
        {
          "output_type": "error",
          "ename": "SyntaxError",
          "evalue": "invalid syntax (ipython-input-3291504646.py, line 1)",
          "traceback": [
            "\u001b[0;36m  File \u001b[0;32m\"/tmp/ipython-input-3291504646.py\"\u001b[0;36m, line \u001b[0;32m1\u001b[0m\n\u001b[0;31m    and = 10\u001b[0m\n\u001b[0m    ^\u001b[0m\n\u001b[0;31mSyntaxError\u001b[0m\u001b[0;31m:\u001b[0m invalid syntax\n"
          ]
        }
      ]
    },
    {
      "cell_type": "markdown",
      "source": [
        "# Working with libraries"
      ],
      "metadata": {
        "id": "UrN1SrUajE-k"
      }
    },
    {
      "cell_type": "markdown",
      "source": [
        "Just like in R, Python has libraries that have functions that we can use. Also, just like in R, you only ever need to install a library once. But you must load it every time you restart Colab.\n",
        "\n",
        "In python, you install a library by the command:\n",
        "- !pip install library\n",
        "\n",
        "In python, you load a library with the command:\n",
        "- import library_name"
      ],
      "metadata": {
        "id": "F7D2vgm3jIv4"
      }
    },
    {
      "cell_type": "code",
      "source": [
        "# Installing pandas\n",
        "!pip install pandas"
      ],
      "metadata": {
        "colab": {
          "base_uri": "https://localhost:8080/"
        },
        "id": "-mAckTlujkcq",
        "outputId": "58f4a92b-412f-47af-d897-4fefad757fd4"
      },
      "execution_count": 11,
      "outputs": [
        {
          "output_type": "stream",
          "name": "stdout",
          "text": [
            "Requirement already satisfied: pandas in /usr/local/lib/python3.12/dist-packages (2.2.2)\n",
            "Requirement already satisfied: numpy>=1.26.0 in /usr/local/lib/python3.12/dist-packages (from pandas) (2.0.2)\n",
            "Requirement already satisfied: python-dateutil>=2.8.2 in /usr/local/lib/python3.12/dist-packages (from pandas) (2.9.0.post0)\n",
            "Requirement already satisfied: pytz>=2020.1 in /usr/local/lib/python3.12/dist-packages (from pandas) (2025.2)\n",
            "Requirement already satisfied: tzdata>=2022.7 in /usr/local/lib/python3.12/dist-packages (from pandas) (2025.2)\n",
            "Requirement already satisfied: six>=1.5 in /usr/local/lib/python3.12/dist-packages (from python-dateutil>=2.8.2->pandas) (1.17.0)\n"
          ]
        }
      ]
    },
    {
      "cell_type": "code",
      "source": [
        "# Loading the library\n",
        "import pandas"
      ],
      "metadata": {
        "id": "BOPC-10KjtJn"
      },
      "execution_count": 12,
      "outputs": []
    },
    {
      "cell_type": "markdown",
      "source": [
        "## Using library aliases"
      ],
      "metadata": {
        "id": "7PGnWzlaj0uK"
      }
    },
    {
      "cell_type": "markdown",
      "source": [
        "Whenever you call a function from a library in python, you need to give the name of the library. For example you would say pandas.function_name every time you use a function from pandas. It can become difficult or tedious to write library names every time so you can also give it an alias."
      ],
      "metadata": {
        "id": "XFyIgoQsj47L"
      }
    },
    {
      "cell_type": "code",
      "source": [
        "import pandas as pd"
      ],
      "metadata": {
        "id": "ZvvjoTMujw6h"
      },
      "execution_count": 13,
      "outputs": []
    },
    {
      "cell_type": "markdown",
      "source": [
        "If I import pandas as pd, everytime I want to use a function from pandas I would just say pd.function_name"
      ],
      "metadata": {
        "id": "Id86zOTAkZkW"
      }
    },
    {
      "cell_type": "markdown",
      "source": [
        "## Example of using a library"
      ],
      "metadata": {
        "id": "ywQOPmcNkjYR"
      }
    },
    {
      "cell_type": "code",
      "source": [
        "# keyword is one of the libraries that comes pre-installed\n",
        "import keyword as kw"
      ],
      "metadata": {
        "id": "k1gcMmkrkmIG"
      },
      "execution_count": 14,
      "outputs": []
    },
    {
      "cell_type": "markdown",
      "source": [
        "keyword library has a list of keywords that you are not allowed to use as a variable name."
      ],
      "metadata": {
        "id": "apV1U8hqlEll"
      }
    },
    {
      "cell_type": "code",
      "source": [
        "kw.kwlist"
      ],
      "metadata": {
        "colab": {
          "base_uri": "https://localhost:8080/"
        },
        "id": "HrkJHXZik7ti",
        "outputId": "f792fd1b-385b-4a79-d86c-ce1bb372f5d2"
      },
      "execution_count": 15,
      "outputs": [
        {
          "output_type": "execute_result",
          "data": {
            "text/plain": [
              "['False',\n",
              " 'None',\n",
              " 'True',\n",
              " 'and',\n",
              " 'as',\n",
              " 'assert',\n",
              " 'async',\n",
              " 'await',\n",
              " 'break',\n",
              " 'class',\n",
              " 'continue',\n",
              " 'def',\n",
              " 'del',\n",
              " 'elif',\n",
              " 'else',\n",
              " 'except',\n",
              " 'finally',\n",
              " 'for',\n",
              " 'from',\n",
              " 'global',\n",
              " 'if',\n",
              " 'import',\n",
              " 'in',\n",
              " 'is',\n",
              " 'lambda',\n",
              " 'nonlocal',\n",
              " 'not',\n",
              " 'or',\n",
              " 'pass',\n",
              " 'raise',\n",
              " 'return',\n",
              " 'try',\n",
              " 'while',\n",
              " 'with',\n",
              " 'yield']"
            ]
          },
          "metadata": {},
          "execution_count": 15
        }
      ]
    },
    {
      "cell_type": "markdown",
      "source": [
        "# Lists"
      ],
      "metadata": {
        "id": "9yLcINzGmNYE"
      }
    },
    {
      "cell_type": "markdown",
      "source": [
        "## Making a list"
      ],
      "metadata": {
        "id": "D9Nmr5TTmYCK"
      }
    },
    {
      "cell_type": "markdown",
      "source": [
        "A list is just a collection of different values which don't have to be of the same datatype."
      ],
      "metadata": {
        "id": "HuanAUFdnRey"
      }
    },
    {
      "cell_type": "code",
      "source": [
        "list1 = [10, 20, 30]"
      ],
      "metadata": {
        "id": "zoDeaiMsmaQp"
      },
      "execution_count": 16,
      "outputs": []
    },
    {
      "cell_type": "code",
      "source": [
        "list1"
      ],
      "metadata": {
        "colab": {
          "base_uri": "https://localhost:8080/"
        },
        "id": "hmlOZl9Ymf7I",
        "outputId": "538a8e91-0db5-4771-bec4-46a1592bd06a"
      },
      "execution_count": 17,
      "outputs": [
        {
          "output_type": "execute_result",
          "data": {
            "text/plain": [
              "[10, 20, 30]"
            ]
          },
          "metadata": {},
          "execution_count": 17
        }
      ]
    },
    {
      "cell_type": "code",
      "source": [
        "list2 = [1, \"two\", 3.05, True]"
      ],
      "metadata": {
        "id": "rMS8hWpYmiXG"
      },
      "execution_count": 20,
      "outputs": []
    },
    {
      "cell_type": "code",
      "source": [
        "list2"
      ],
      "metadata": {
        "colab": {
          "base_uri": "https://localhost:8080/"
        },
        "id": "2A-OdSs4m59B",
        "outputId": "22ddb10c-04b0-4a96-f478-65dcd2747a24"
      },
      "execution_count": 23,
      "outputs": [
        {
          "output_type": "execute_result",
          "data": {
            "text/plain": [
              "[1, 'two', 3.05, True]"
            ]
          },
          "metadata": {},
          "execution_count": 23
        }
      ]
    },
    {
      "cell_type": "code",
      "source": [
        "list3 = []"
      ],
      "metadata": {
        "id": "pIt1xt9YnJ2E"
      },
      "execution_count": 25,
      "outputs": []
    },
    {
      "cell_type": "code",
      "source": [
        "list3"
      ],
      "metadata": {
        "colab": {
          "base_uri": "https://localhost:8080/"
        },
        "id": "JkUSE5rFnMmK",
        "outputId": "ddcfa086-9cb6-40cb-a321-ee5972222f5a"
      },
      "execution_count": 26,
      "outputs": [
        {
          "output_type": "execute_result",
          "data": {
            "text/plain": [
              "[]"
            ]
          },
          "metadata": {},
          "execution_count": 26
        }
      ]
    },
    {
      "cell_type": "markdown",
      "source": [
        "## Indexing and slicing a list"
      ],
      "metadata": {
        "id": "zE9WTd0HnY6s"
      }
    },
    {
      "cell_type": "code",
      "source": [
        "a = [1,4,7,9,'a','b','c']\n",
        "print(a)"
      ],
      "metadata": {
        "colab": {
          "base_uri": "https://localhost:8080/"
        },
        "id": "zyrOHCJcndad",
        "outputId": "df6b7bdc-0178-40c3-dea6-e1a73d1c51e0"
      },
      "execution_count": 28,
      "outputs": [
        {
          "output_type": "stream",
          "name": "stdout",
          "text": [
            "[1, 4, 7, 9, 'a', 'b', 'c']\n"
          ]
        }
      ]
    },
    {
      "cell_type": "markdown",
      "source": [
        "**Imp: Python starts counting at zero**"
      ],
      "metadata": {
        "id": "GvEOiAaJntcx"
      }
    },
    {
      "cell_type": "code",
      "source": [
        "a[0]"
      ],
      "metadata": {
        "colab": {
          "base_uri": "https://localhost:8080/"
        },
        "id": "fWW4uZxannek",
        "outputId": "9cb29af6-d0bb-4e81-dc98-cfdb7b614f09"
      },
      "execution_count": 29,
      "outputs": [
        {
          "output_type": "execute_result",
          "data": {
            "text/plain": [
              "1"
            ]
          },
          "metadata": {},
          "execution_count": 29
        }
      ]
    },
    {
      "cell_type": "markdown",
      "source": [
        "**Imp: In idexing, Python will not return the last index**"
      ],
      "metadata": {
        "id": "XDwp4ZQ0oFs8"
      }
    },
    {
      "cell_type": "code",
      "source": [
        "a[1:4]"
      ],
      "metadata": {
        "colab": {
          "base_uri": "https://localhost:8080/"
        },
        "id": "UcFTNJ0-n5GX",
        "outputId": "2e31bfc5-a495-4849-ed0d-52b10588902c"
      },
      "execution_count": 30,
      "outputs": [
        {
          "output_type": "execute_result",
          "data": {
            "text/plain": [
              "[4, 7, 9]"
            ]
          },
          "metadata": {},
          "execution_count": 30
        }
      ]
    },
    {
      "cell_type": "code",
      "source": [
        "a[0:2]"
      ],
      "metadata": {
        "colab": {
          "base_uri": "https://localhost:8080/"
        },
        "id": "0YfEb5N3oOty",
        "outputId": "4244d6d4-e2ee-42c0-9c20-1260ad64d37d"
      },
      "execution_count": 31,
      "outputs": [
        {
          "output_type": "execute_result",
          "data": {
            "text/plain": [
              "[1, 4]"
            ]
          },
          "metadata": {},
          "execution_count": 31
        }
      ]
    },
    {
      "cell_type": "code",
      "source": [
        "a[:3]"
      ],
      "metadata": {
        "colab": {
          "base_uri": "https://localhost:8080/"
        },
        "id": "O5rKA7dCoToy",
        "outputId": "76dc03b7-debf-423a-9118-3934d0a23bc8"
      },
      "execution_count": 32,
      "outputs": [
        {
          "output_type": "execute_result",
          "data": {
            "text/plain": [
              "[1, 4, 7]"
            ]
          },
          "metadata": {},
          "execution_count": 32
        }
      ]
    },
    {
      "cell_type": "code",
      "source": [
        "a[3:]"
      ],
      "metadata": {
        "colab": {
          "base_uri": "https://localhost:8080/"
        },
        "id": "8SFAFvhzoW5a",
        "outputId": "7efa8ca3-603d-4583-8cc2-87c6e58157e4"
      },
      "execution_count": 33,
      "outputs": [
        {
          "output_type": "execute_result",
          "data": {
            "text/plain": [
              "[9, 'a', 'b', 'c']"
            ]
          },
          "metadata": {},
          "execution_count": 33
        }
      ]
    },
    {
      "cell_type": "markdown",
      "source": [
        "## Common methods used for working with lists"
      ],
      "metadata": {
        "id": "SM6XDTIBo33C"
      }
    },
    {
      "cell_type": "markdown",
      "source": [
        "In R, if I had a vector x = c(1, 2, 3) and then I made an addition to it as y = c(x, 4) and I printed y I would get 1,2,3,4.\n",
        "\n",
        "This technique does not work in python. You end up with a nested list if you do this."
      ],
      "metadata": {
        "id": "LS2TZsRto81R"
      }
    },
    {
      "cell_type": "code",
      "source": [
        "b = [a, 100]\n",
        "print(b)"
      ],
      "metadata": {
        "colab": {
          "base_uri": "https://localhost:8080/"
        },
        "id": "2IKQMKYZpQpO",
        "outputId": "fd795fd7-1eb0-485b-9e07-c580edb2929e"
      },
      "execution_count": 34,
      "outputs": [
        {
          "output_type": "stream",
          "name": "stdout",
          "text": [
            "[[1, 4, 7, 9, 'a', 'b', 'c'], 100]\n"
          ]
        }
      ]
    },
    {
      "cell_type": "code",
      "source": [
        "b[0]"
      ],
      "metadata": {
        "colab": {
          "base_uri": "https://localhost:8080/"
        },
        "id": "Df5ZCPSkpbyf",
        "outputId": "caf33c18-5b43-41ef-b787-bf5d4a8703a7"
      },
      "execution_count": 35,
      "outputs": [
        {
          "output_type": "execute_result",
          "data": {
            "text/plain": [
              "[1, 4, 7, 9, 'a', 'b', 'c']"
            ]
          },
          "metadata": {},
          "execution_count": 35
        }
      ]
    },
    {
      "cell_type": "code",
      "source": [
        "b[1]"
      ],
      "metadata": {
        "colab": {
          "base_uri": "https://localhost:8080/"
        },
        "id": "COV1eTvGpfkj",
        "outputId": "9c4dc7da-0e24-48a4-db2b-0a7b0799479a"
      },
      "execution_count": 36,
      "outputs": [
        {
          "output_type": "execute_result",
          "data": {
            "text/plain": [
              "100"
            ]
          },
          "metadata": {},
          "execution_count": 36
        }
      ]
    },
    {
      "cell_type": "code",
      "source": [
        "b[0][0:3]"
      ],
      "metadata": {
        "colab": {
          "base_uri": "https://localhost:8080/"
        },
        "id": "5fj3tzvwpnGh",
        "outputId": "c2b43433-bef3-418b-d821-e34facf0ed05"
      },
      "execution_count": 37,
      "outputs": [
        {
          "output_type": "execute_result",
          "data": {
            "text/plain": [
              "[1, 4, 7]"
            ]
          },
          "metadata": {},
          "execution_count": 37
        }
      ]
    },
    {
      "cell_type": "code",
      "source": [
        "# append an element to a vector\n",
        "a.append(100)"
      ],
      "metadata": {
        "id": "vTjA_C8hp48Y"
      },
      "execution_count": 39,
      "outputs": []
    },
    {
      "cell_type": "code",
      "source": [
        "a"
      ],
      "metadata": {
        "colab": {
          "base_uri": "https://localhost:8080/"
        },
        "id": "0O_C3H73qLXg",
        "outputId": "5c0b67c5-eb03-43a8-af02-082a3e830fd3"
      },
      "execution_count": 40,
      "outputs": [
        {
          "output_type": "execute_result",
          "data": {
            "text/plain": [
              "[1, 4, 7, 9, 'a', 'b', 'c', 100, 100]"
            ]
          },
          "metadata": {},
          "execution_count": 40
        }
      ]
    },
    {
      "cell_type": "code",
      "source": [
        "a.extend([200,300])\n",
        "print(a)"
      ],
      "metadata": {
        "colab": {
          "base_uri": "https://localhost:8080/"
        },
        "id": "FjGjtye1qRMs",
        "outputId": "f63a5647-50d8-497a-be9e-39901b23fe87"
      },
      "execution_count": 42,
      "outputs": [
        {
          "output_type": "stream",
          "name": "stdout",
          "text": [
            "[1, 4, 7, 9, 'a', 'b', 'c', 100, 100, 200, 300, 200, 300]\n"
          ]
        }
      ]
    },
    {
      "cell_type": "code",
      "source": [
        "# What if I want to add an element at a particular index?\n",
        "# Let's say, I want the number 150 at index 3\n",
        "\n",
        "a.insert(3, 150)\n",
        "print(a)"
      ],
      "metadata": {
        "colab": {
          "base_uri": "https://localhost:8080/"
        },
        "id": "Rw8ZzME0qxqw",
        "outputId": "73584563-a889-4def-e9eb-70048ee7922e"
      },
      "execution_count": 43,
      "outputs": [
        {
          "output_type": "stream",
          "name": "stdout",
          "text": [
            "[1, 4, 7, 150, 9, 'a', 'b', 'c', 100, 100, 200, 300, 200, 300]\n"
          ]
        }
      ]
    },
    {
      "cell_type": "code",
      "source": [
        "# I can remove a particular value\n",
        "a.remove(150)\n",
        "print(a)"
      ],
      "metadata": {
        "colab": {
          "base_uri": "https://localhost:8080/"
        },
        "id": "zS-FDbqXrFiB",
        "outputId": "560f16fa-2166-44fc-a291-55ae2aaf11a5"
      },
      "execution_count": 44,
      "outputs": [
        {
          "output_type": "stream",
          "name": "stdout",
          "text": [
            "[1, 4, 7, 9, 'a', 'b', 'c', 100, 100, 200, 300, 200, 300]\n"
          ]
        }
      ]
    },
    {
      "cell_type": "code",
      "source": [
        "# I can change the value of an element\n",
        "a[0] = 5\n",
        "print(a)"
      ],
      "metadata": {
        "colab": {
          "base_uri": "https://localhost:8080/"
        },
        "id": "P680vmFYrM5x",
        "outputId": "67491586-1fc7-4985-fd09-182f0537b383"
      },
      "execution_count": 45,
      "outputs": [
        {
          "output_type": "stream",
          "name": "stdout",
          "text": [
            "[5, 4, 7, 9, 'a', 'b', 'c', 100, 100, 200, 300, 200, 300]\n"
          ]
        }
      ]
    },
    {
      "cell_type": "markdown",
      "source": [
        "# Tuples"
      ],
      "metadata": {
        "id": "53mbQtKMstKq"
      }
    },
    {
      "cell_type": "markdown",
      "source": [
        "A tuple is like a list except that it is immutable. Once a tuple is made, you cannot add, delete, or change an item."
      ],
      "metadata": {
        "id": "5Iy76YJBswO7"
      }
    },
    {
      "cell_type": "code",
      "source": [
        "tuple1 = (1,4,6,9)"
      ],
      "metadata": {
        "id": "MaVF2_jcs-qW"
      },
      "execution_count": 46,
      "outputs": []
    },
    {
      "cell_type": "code",
      "source": [
        "tuple1[0]"
      ],
      "metadata": {
        "colab": {
          "base_uri": "https://localhost:8080/"
        },
        "id": "4ee0dRq9tFAN",
        "outputId": "de41cda8-e2b6-448b-b5d5-e05e6b6c18ec"
      },
      "execution_count": 47,
      "outputs": [
        {
          "output_type": "execute_result",
          "data": {
            "text/plain": [
              "1"
            ]
          },
          "metadata": {},
          "execution_count": 47
        }
      ]
    },
    {
      "cell_type": "code",
      "source": [
        "tuple1[1:3]"
      ],
      "metadata": {
        "colab": {
          "base_uri": "https://localhost:8080/"
        },
        "id": "2V6REoDitKnO",
        "outputId": "8a36b835-7a16-4261-9eb6-625f11dd6619"
      },
      "execution_count": 48,
      "outputs": [
        {
          "output_type": "execute_result",
          "data": {
            "text/plain": [
              "(4, 6)"
            ]
          },
          "metadata": {},
          "execution_count": 48
        }
      ]
    },
    {
      "cell_type": "code",
      "source": [
        "tuple1.append(100)"
      ],
      "metadata": {
        "colab": {
          "base_uri": "https://localhost:8080/",
          "height": 141
        },
        "id": "X46vknFdtOqA",
        "outputId": "944a0239-1219-4544-99c4-75e19a83e261"
      },
      "execution_count": 49,
      "outputs": [
        {
          "output_type": "error",
          "ename": "AttributeError",
          "evalue": "'tuple' object has no attribute 'append'",
          "traceback": [
            "\u001b[0;31m---------------------------------------------------------------------------\u001b[0m",
            "\u001b[0;31mAttributeError\u001b[0m                            Traceback (most recent call last)",
            "\u001b[0;32m/tmp/ipython-input-1751860134.py\u001b[0m in \u001b[0;36m<cell line: 0>\u001b[0;34m()\u001b[0m\n\u001b[0;32m----> 1\u001b[0;31m \u001b[0mtuple1\u001b[0m\u001b[0;34m.\u001b[0m\u001b[0mappend\u001b[0m\u001b[0;34m(\u001b[0m\u001b[0;36m100\u001b[0m\u001b[0;34m)\u001b[0m\u001b[0;34m\u001b[0m\u001b[0;34m\u001b[0m\u001b[0m\n\u001b[0m",
            "\u001b[0;31mAttributeError\u001b[0m: 'tuple' object has no attribute 'append'"
          ]
        }
      ]
    },
    {
      "cell_type": "code",
      "source": [
        "tuple1[0] = 10"
      ],
      "metadata": {
        "colab": {
          "base_uri": "https://localhost:8080/",
          "height": 141
        },
        "id": "dwZzFp_MtVQd",
        "outputId": "28f75010-7578-4f45-eec0-9a78c8a5abcd"
      },
      "execution_count": 50,
      "outputs": [
        {
          "output_type": "error",
          "ename": "TypeError",
          "evalue": "'tuple' object does not support item assignment",
          "traceback": [
            "\u001b[0;31m---------------------------------------------------------------------------\u001b[0m",
            "\u001b[0;31mTypeError\u001b[0m                                 Traceback (most recent call last)",
            "\u001b[0;32m/tmp/ipython-input-345067431.py\u001b[0m in \u001b[0;36m<cell line: 0>\u001b[0;34m()\u001b[0m\n\u001b[0;32m----> 1\u001b[0;31m \u001b[0mtuple1\u001b[0m\u001b[0;34m[\u001b[0m\u001b[0;36m0\u001b[0m\u001b[0;34m]\u001b[0m \u001b[0;34m=\u001b[0m \u001b[0;36m10\u001b[0m\u001b[0;34m\u001b[0m\u001b[0;34m\u001b[0m\u001b[0m\n\u001b[0m",
            "\u001b[0;31mTypeError\u001b[0m: 'tuple' object does not support item assignment"
          ]
        }
      ]
    },
    {
      "cell_type": "code",
      "source": [
        "tuple1.remove(9)"
      ],
      "metadata": {
        "colab": {
          "base_uri": "https://localhost:8080/",
          "height": 141
        },
        "id": "byQojbnQtbrc",
        "outputId": "255f8ead-ffb7-49c3-e06c-29fbcf1fb104"
      },
      "execution_count": 51,
      "outputs": [
        {
          "output_type": "error",
          "ename": "AttributeError",
          "evalue": "'tuple' object has no attribute 'remove'",
          "traceback": [
            "\u001b[0;31m---------------------------------------------------------------------------\u001b[0m",
            "\u001b[0;31mAttributeError\u001b[0m                            Traceback (most recent call last)",
            "\u001b[0;32m/tmp/ipython-input-1951347750.py\u001b[0m in \u001b[0;36m<cell line: 0>\u001b[0;34m()\u001b[0m\n\u001b[0;32m----> 1\u001b[0;31m \u001b[0mtuple1\u001b[0m\u001b[0;34m.\u001b[0m\u001b[0mremove\u001b[0m\u001b[0;34m(\u001b[0m\u001b[0;36m9\u001b[0m\u001b[0;34m)\u001b[0m\u001b[0;34m\u001b[0m\u001b[0;34m\u001b[0m\u001b[0m\n\u001b[0m",
            "\u001b[0;31mAttributeError\u001b[0m: 'tuple' object has no attribute 'remove'"
          ]
        }
      ]
    },
    {
      "cell_type": "code",
      "source": [
        "tuple2 = ([1,2], [3,4])"
      ],
      "metadata": {
        "id": "qElYkV3LtuvJ"
      },
      "execution_count": 52,
      "outputs": []
    },
    {
      "cell_type": "code",
      "source": [
        "tuple2[0]"
      ],
      "metadata": {
        "colab": {
          "base_uri": "https://localhost:8080/"
        },
        "id": "1iasKk9Yt0E2",
        "outputId": "cf191c6a-716b-4629-dc3f-fa1cc3990da8"
      },
      "execution_count": 54,
      "outputs": [
        {
          "output_type": "execute_result",
          "data": {
            "text/plain": [
              "[1, 2]"
            ]
          },
          "metadata": {},
          "execution_count": 54
        }
      ]
    },
    {
      "cell_type": "markdown",
      "source": [
        "# Set\n",
        "\n",
        "Sets are unordered collections of unique items"
      ],
      "metadata": {
        "id": "CXmmSltFt9Ic"
      }
    },
    {
      "cell_type": "code",
      "source": [
        "set1 = {1,2,3,4}"
      ],
      "metadata": {
        "id": "HbREzpiXuMak"
      },
      "execution_count": 55,
      "outputs": []
    },
    {
      "cell_type": "code",
      "source": [
        "set1[0] # Because a set is unordered, there are no indices"
      ],
      "metadata": {
        "colab": {
          "base_uri": "https://localhost:8080/",
          "height": 141
        },
        "id": "rrcqFe0_uQXI",
        "outputId": "59a81e41-ab51-475f-92e5-1a4cbf5b77f3"
      },
      "execution_count": 57,
      "outputs": [
        {
          "output_type": "error",
          "ename": "TypeError",
          "evalue": "'set' object is not subscriptable",
          "traceback": [
            "\u001b[0;31m---------------------------------------------------------------------------\u001b[0m",
            "\u001b[0;31mTypeError\u001b[0m                                 Traceback (most recent call last)",
            "\u001b[0;32m/tmp/ipython-input-2166654704.py\u001b[0m in \u001b[0;36m<cell line: 0>\u001b[0;34m()\u001b[0m\n\u001b[0;32m----> 1\u001b[0;31m \u001b[0mset1\u001b[0m\u001b[0;34m[\u001b[0m\u001b[0;36m0\u001b[0m\u001b[0;34m]\u001b[0m\u001b[0;34m\u001b[0m\u001b[0;34m\u001b[0m\u001b[0m\n\u001b[0m",
            "\u001b[0;31mTypeError\u001b[0m: 'set' object is not subscriptable"
          ]
        }
      ]
    },
    {
      "cell_type": "code",
      "source": [
        "4 in set1"
      ],
      "metadata": {
        "colab": {
          "base_uri": "https://localhost:8080/"
        },
        "id": "_dBThwyYuXhF",
        "outputId": "84aa2dec-377e-455f-a6e3-f7566c1f6b4e"
      },
      "execution_count": 58,
      "outputs": [
        {
          "output_type": "execute_result",
          "data": {
            "text/plain": [
              "True"
            ]
          },
          "metadata": {},
          "execution_count": 58
        }
      ]
    },
    {
      "cell_type": "code",
      "source": [
        "set1.pop()"
      ],
      "metadata": {
        "colab": {
          "base_uri": "https://localhost:8080/"
        },
        "id": "el4HeQoquaC4",
        "outputId": "6d791f3c-9538-4683-e8c7-7fb43ac3bce4"
      },
      "execution_count": 60,
      "outputs": [
        {
          "output_type": "execute_result",
          "data": {
            "text/plain": [
              "1"
            ]
          },
          "metadata": {},
          "execution_count": 60
        }
      ]
    },
    {
      "cell_type": "code",
      "source": [
        "set1"
      ],
      "metadata": {
        "colab": {
          "base_uri": "https://localhost:8080/"
        },
        "id": "UQX34Kn2ueIe",
        "outputId": "e59820a5-dc70-4304-8e95-c5a4b86e1ab5"
      },
      "execution_count": 61,
      "outputs": [
        {
          "output_type": "execute_result",
          "data": {
            "text/plain": [
              "{2, 3, 4}"
            ]
          },
          "metadata": {},
          "execution_count": 61
        }
      ]
    },
    {
      "cell_type": "code",
      "source": [
        "set2 = set([1,2,3,4,3,4]) # a set cannot have duplicates!\n",
        "print(set2)"
      ],
      "metadata": {
        "colab": {
          "base_uri": "https://localhost:8080/"
        },
        "id": "OFbnzPgquwVv",
        "outputId": "4aa6615a-65eb-48b7-a9e6-1fee824b6fe2"
      },
      "execution_count": 65,
      "outputs": [
        {
          "output_type": "stream",
          "name": "stdout",
          "text": [
            "{1, 2, 3, 4}\n"
          ]
        }
      ]
    },
    {
      "cell_type": "code",
      "source": [
        "set2.add(5)\n",
        "print(set2)"
      ],
      "metadata": {
        "colab": {
          "base_uri": "https://localhost:8080/"
        },
        "id": "4ETet1GJvKIr",
        "outputId": "d3844470-68ec-4145-f120-5be03b97426f"
      },
      "execution_count": 66,
      "outputs": [
        {
          "output_type": "stream",
          "name": "stdout",
          "text": [
            "{1, 2, 3, 4, 5}\n"
          ]
        }
      ]
    },
    {
      "cell_type": "code",
      "source": [
        "# Union\n",
        "set1 = {1,2,3}\n",
        "set2 = {2,3,4,5}\n",
        "set_union = set1 | set2\n",
        "print(set_union)"
      ],
      "metadata": {
        "colab": {
          "base_uri": "https://localhost:8080/"
        },
        "id": "YFVw3bsBvRlq",
        "outputId": "b5a38b3f-3d89-47b5-a1e0-1522c194cdfe"
      },
      "execution_count": 67,
      "outputs": [
        {
          "output_type": "stream",
          "name": "stdout",
          "text": [
            "{1, 2, 3, 4, 5}\n"
          ]
        }
      ]
    },
    {
      "cell_type": "code",
      "source": [
        "# Intersection\n",
        "set1 = {1,2,3}\n",
        "set2 = {2,3,4,5}\n",
        "set_intersection = set1 & set2\n",
        "print(set_intersection)"
      ],
      "metadata": {
        "colab": {
          "base_uri": "https://localhost:8080/"
        },
        "id": "ovAARhQOvh5o",
        "outputId": "2952d7ae-f6f1-4cf4-8442-1e4e10308a1a"
      },
      "execution_count": 68,
      "outputs": [
        {
          "output_type": "stream",
          "name": "stdout",
          "text": [
            "{2, 3}\n"
          ]
        }
      ]
    },
    {
      "cell_type": "code",
      "source": [
        "# Set Difference\n",
        "set1 = {1,2,3}\n",
        "set2 = {2,3,4,5}\n",
        "set_diff = set1 - set2\n",
        "print(set_diff)\n",
        "set_diff2 = set2 - set1\n",
        "print(set_diff2)"
      ],
      "metadata": {
        "colab": {
          "base_uri": "https://localhost:8080/"
        },
        "id": "MNhFhW1ivzny",
        "outputId": "87a314e3-5fb1-4101-f01e-be92e6fd6446"
      },
      "execution_count": 71,
      "outputs": [
        {
          "output_type": "stream",
          "name": "stdout",
          "text": [
            "{1}\n",
            "{4, 5}\n"
          ]
        }
      ]
    },
    {
      "cell_type": "code",
      "source": [
        "# Symmetric Difference\n",
        "set1 = {1,2,3}\n",
        "set2 = {2,3,4,5}\n",
        "set_symmetric_diff = set1 ^ set2\n",
        "print(set_symmetric_diff)"
      ],
      "metadata": {
        "colab": {
          "base_uri": "https://localhost:8080/"
        },
        "id": "Vw6iYdeCwK4T",
        "outputId": "50fc94d7-568a-49d1-a804-4697ea60b561"
      },
      "execution_count": 72,
      "outputs": [
        {
          "output_type": "stream",
          "name": "stdout",
          "text": [
            "{1, 4, 5}\n"
          ]
        }
      ]
    },
    {
      "cell_type": "markdown",
      "source": [],
      "metadata": {
        "id": "vhj_02VWmTgz"
      }
    }
  ]
}