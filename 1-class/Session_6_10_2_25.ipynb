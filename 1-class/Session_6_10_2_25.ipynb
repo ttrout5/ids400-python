{
  "cells": [
    {
      "cell_type": "markdown",
      "metadata": {
        "colab_type": "text",
        "id": "view-in-github"
      },
      "source": [
        "<a href=\"https://colab.research.google.com/github/ttrout5/ids400-python/blob/develop/1-class/Session_6_10_2_25.ipynb\" target=\"_parent\"><img src=\"https://colab.research.google.com/assets/colab-badge.svg\" alt=\"Open In Colab\"/></a>"
      ]
    },
    {
      "cell_type": "markdown",
      "metadata": {
        "id": "ArgypOvvgvC7"
      },
      "source": [
        "# Making Variables"
      ]
    },
    {
      "cell_type": "markdown",
      "metadata": {
        "id": "lUGaAP9JhrKr"
      },
      "source": [
        "## Basics"
      ]
    },
    {
      "cell_type": "code",
      "execution_count": null,
      "metadata": {
        "colab": {
          "base_uri": "https://localhost:8080/"
        },
        "id": "HnMPZc3pwBvB",
        "outputId": "42953262-321e-4632-ae01-ecfdbeb180f3"
      },
      "outputs": [
        {
          "name": "stdout",
          "output_type": "stream",
          "text": [
            "5\n",
            "text\n",
            "The code for this course is 'IDS 400\n"
          ]
        }
      ],
      "source": [
        "x = 5\n",
        "z = 10\n",
        "print(x)"
      ]
    },
    {
      "cell_type": "code",
      "execution_count": null,
      "metadata": {
        "colab": {
          "base_uri": "https://localhost:8080/"
        },
        "id": "xw8R9fomhRU-",
        "outputId": "2f22d17a-dea6-4e54-d79f-e9490fe2c5b4"
      },
      "outputs": [
        {
          "name": "stdout",
          "output_type": "stream",
          "text": [
            "text\n"
          ]
        }
      ],
      "source": [
        "y = \"text\"\n",
        "print(y)"
      ]
    },
    {
      "cell_type": "code",
      "execution_count": null,
      "metadata": {
        "id": "G_j7aTCJhUIF"
      },
      "outputs": [],
      "source": [
        "z = 'text'"
      ]
    },
    {
      "cell_type": "code",
      "execution_count": null,
      "metadata": {
        "colab": {
          "base_uri": "https://localhost:8080/"
        },
        "id": "WZ92jGJrhXhS",
        "outputId": "c7cf0a55-f9fb-4d75-971f-80219293fe4c"
      },
      "outputs": [
        {
          "name": "stdout",
          "output_type": "stream",
          "text": [
            "The code for this course is 'IDS 400'\n"
          ]
        }
      ],
      "source": [
        "print(\"The code for this course is 'IDS 400'\")"
      ]
    },
    {
      "cell_type": "markdown",
      "metadata": {
        "id": "5XchRlephgCE"
      },
      "source": [
        "## Naming Conventions"
      ]
    },
    {
      "cell_type": "markdown",
      "metadata": {
        "id": "stul9ra9h8v-"
      },
      "source": [
        "1. You cannot start a variable name with a number\n",
        "2. Most special characters are not allowed to be part of the variable name like &, @ etc. However, _ is allowed\n",
        "3. You cannot use the name of an inbuilt keyword\n",
        "\n",
        "There are a few conventions to naming:\n",
        "1. Names should be descriptive\n",
        "2. We use either came case or all all small letter and \"_\" sign (var_example_name)\n"
      ]
    },
    {
      "cell_type": "code",
      "execution_count": null,
      "metadata": {
        "colab": {
          "base_uri": "https://localhost:8080/",
          "height": 106
        },
        "id": "HfocXys9hkDO",
        "outputId": "5e8d6d95-09d1-4e72-d00f-89446ac819d1"
      },
      "outputs": [
        {
          "ename": "SyntaxError",
          "evalue": "invalid decimal literal (ipython-input-1018838559.py, line 1)",
          "output_type": "error",
          "traceback": [
            "\u001b[0;36m  File \u001b[0;32m\"/tmp/ipython-input-1018838559.py\"\u001b[0;36m, line \u001b[0;32m1\u001b[0m\n\u001b[0;31m    1x = 5\u001b[0m\n\u001b[0m    ^\u001b[0m\n\u001b[0;31mSyntaxError\u001b[0m\u001b[0;31m:\u001b[0m invalid decimal literal\n"
          ]
        }
      ],
      "source": [
        "1x = 5"
      ]
    },
    {
      "cell_type": "code",
      "execution_count": null,
      "metadata": {
        "colab": {
          "base_uri": "https://localhost:8080/",
          "height": 106
        },
        "id": "cut04fU4i2oI",
        "outputId": "b736eb47-1205-46e5-b557-cd51e9572ba9"
      },
      "outputs": [
        {
          "ename": "SyntaxError",
          "evalue": "invalid syntax (ipython-input-4092307479.py, line 1)",
          "output_type": "error",
          "traceback": [
            "\u001b[0;36m  File \u001b[0;32m\"/tmp/ipython-input-4092307479.py\"\u001b[0;36m, line \u001b[0;32m1\u001b[0m\n\u001b[0;31m    x$ = 5\u001b[0m\n\u001b[0m     ^\u001b[0m\n\u001b[0;31mSyntaxError\u001b[0m\u001b[0;31m:\u001b[0m invalid syntax\n"
          ]
        }
      ],
      "source": [
        "x$ = 5"
      ]
    },
    {
      "cell_type": "code",
      "execution_count": null,
      "metadata": {
        "colab": {
          "base_uri": "https://localhost:8080/",
          "height": 106
        },
        "id": "HzmZ2GQhi9h8",
        "outputId": "548352b6-87bd-488e-eb69-d4d0f81fa007"
      },
      "outputs": [
        {
          "ename": "SyntaxError",
          "evalue": "invalid syntax (ipython-input-3291504646.py, line 1)",
          "output_type": "error",
          "traceback": [
            "\u001b[0;36m  File \u001b[0;32m\"/tmp/ipython-input-3291504646.py\"\u001b[0;36m, line \u001b[0;32m1\u001b[0m\n\u001b[0;31m    and = 10\u001b[0m\n\u001b[0m    ^\u001b[0m\n\u001b[0;31mSyntaxError\u001b[0m\u001b[0;31m:\u001b[0m invalid syntax\n"
          ]
        }
      ],
      "source": [
        "and = 10"
      ]
    },
    {
      "cell_type": "markdown",
      "metadata": {
        "id": "UrN1SrUajE-k"
      },
      "source": [
        "# Working with libraries"
      ]
    },
    {
      "cell_type": "markdown",
      "metadata": {
        "id": "F7D2vgm3jIv4"
      },
      "source": [
        "Just like in R, Python has libraries that have functions that we can use. Also, just like in R, you only ever need to install a library once. But you must load it every time you restart Colab.\n",
        "\n",
        "In python, you install a library by the command:\n",
        "- !pip install library\n",
        "\n",
        "In python, you load a library with the command:\n",
        "- import library_name"
      ]
    },
    {
      "cell_type": "code",
      "execution_count": null,
      "metadata": {
        "colab": {
          "base_uri": "https://localhost:8080/"
        },
        "id": "-mAckTlujkcq",
        "outputId": "58f4a92b-412f-47af-d897-4fefad757fd4"
      },
      "outputs": [
        {
          "name": "stdout",
          "output_type": "stream",
          "text": [
            "Requirement already satisfied: pandas in /usr/local/lib/python3.12/dist-packages (2.2.2)\n",
            "Requirement already satisfied: numpy>=1.26.0 in /usr/local/lib/python3.12/dist-packages (from pandas) (2.0.2)\n",
            "Requirement already satisfied: python-dateutil>=2.8.2 in /usr/local/lib/python3.12/dist-packages (from pandas) (2.9.0.post0)\n",
            "Requirement already satisfied: pytz>=2020.1 in /usr/local/lib/python3.12/dist-packages (from pandas) (2025.2)\n",
            "Requirement already satisfied: tzdata>=2022.7 in /usr/local/lib/python3.12/dist-packages (from pandas) (2025.2)\n",
            "Requirement already satisfied: six>=1.5 in /usr/local/lib/python3.12/dist-packages (from python-dateutil>=2.8.2->pandas) (1.17.0)\n"
          ]
        }
      ],
      "source": [
        "# Installing pandas\n",
        "!pip install pandas"
      ]
    },
    {
      "cell_type": "code",
      "execution_count": null,
      "metadata": {
        "id": "BOPC-10KjtJn"
      },
      "outputs": [],
      "source": [
        "# Loading the library\n",
        "import pandas"
      ]
    },
    {
      "cell_type": "markdown",
      "metadata": {
        "id": "7PGnWzlaj0uK"
      },
      "source": [
        "## Using library aliases"
      ]
    },
    {
      "cell_type": "markdown",
      "metadata": {
        "id": "XFyIgoQsj47L"
      },
      "source": [
        "Whenever you call a function from a library in python, you need to give the name of the library. For example you would say pandas.function_name every time you use a function from pandas. It can become difficult or tedious to write library names every time so you can also give it an alias."
      ]
    },
    {
      "cell_type": "code",
      "execution_count": null,
      "metadata": {
        "id": "ZvvjoTMujw6h"
      },
      "outputs": [],
      "source": [
        "import pandas as pd"
      ]
    },
    {
      "cell_type": "markdown",
      "metadata": {
        "id": "Id86zOTAkZkW"
      },
      "source": [
        "If I import pandas as pd, everytime I want to use a function from pandas I would just say pd.function_name"
      ]
    },
    {
      "cell_type": "markdown",
      "metadata": {
        "id": "ywQOPmcNkjYR"
      },
      "source": [
        "## Example of using a library"
      ]
    },
    {
      "cell_type": "code",
      "execution_count": null,
      "metadata": {
        "id": "k1gcMmkrkmIG"
      },
      "outputs": [],
      "source": [
        "# keyword is one of the libraries that comes pre-installed\n",
        "import keyword as kw"
      ]
    },
    {
      "cell_type": "markdown",
      "metadata": {
        "id": "apV1U8hqlEll"
      },
      "source": [
        "keyword library has a list of keywords that you are not allowed to use as a variable name."
      ]
    },
    {
      "cell_type": "code",
      "execution_count": null,
      "metadata": {
        "colab": {
          "base_uri": "https://localhost:8080/"
        },
        "id": "HrkJHXZik7ti",
        "outputId": "f792fd1b-385b-4a79-d86c-ce1bb372f5d2"
      },
      "outputs": [
        {
          "data": {
            "text/plain": [
              "['False',\n",
              " 'None',\n",
              " 'True',\n",
              " 'and',\n",
              " 'as',\n",
              " 'assert',\n",
              " 'async',\n",
              " 'await',\n",
              " 'break',\n",
              " 'class',\n",
              " 'continue',\n",
              " 'def',\n",
              " 'del',\n",
              " 'elif',\n",
              " 'else',\n",
              " 'except',\n",
              " 'finally',\n",
              " 'for',\n",
              " 'from',\n",
              " 'global',\n",
              " 'if',\n",
              " 'import',\n",
              " 'in',\n",
              " 'is',\n",
              " 'lambda',\n",
              " 'nonlocal',\n",
              " 'not',\n",
              " 'or',\n",
              " 'pass',\n",
              " 'raise',\n",
              " 'return',\n",
              " 'try',\n",
              " 'while',\n",
              " 'with',\n",
              " 'yield']"
            ]
          },
          "execution_count": 15,
          "metadata": {},
          "output_type": "execute_result"
        }
      ],
      "source": [
        "kw.kwlist"
      ]
    },
    {
      "cell_type": "markdown",
      "metadata": {
        "id": "9yLcINzGmNYE"
      },
      "source": [
        "# Lists"
      ]
    },
    {
      "cell_type": "markdown",
      "metadata": {
        "id": "D9Nmr5TTmYCK"
      },
      "source": [
        "## Making a list"
      ]
    },
    {
      "cell_type": "markdown",
      "metadata": {
        "id": "HuanAUFdnRey"
      },
      "source": [
        "A list is just a collection of different values which don't have to be of the same datatype."
      ]
    },
    {
      "cell_type": "code",
      "execution_count": null,
      "metadata": {
        "id": "zoDeaiMsmaQp"
      },
      "outputs": [],
      "source": [
        "list1 = [10, 20, 30]"
      ]
    },
    {
      "cell_type": "code",
      "execution_count": null,
      "metadata": {
        "colab": {
          "base_uri": "https://localhost:8080/"
        },
        "id": "hmlOZl9Ymf7I",
        "outputId": "538a8e91-0db5-4771-bec4-46a1592bd06a"
      },
      "outputs": [
        {
          "data": {
            "text/plain": [
              "[10, 20, 30]"
            ]
          },
          "execution_count": 17,
          "metadata": {},
          "output_type": "execute_result"
        }
      ],
      "source": [
        "list1"
      ]
    },
    {
      "cell_type": "code",
      "execution_count": null,
      "metadata": {
        "id": "rMS8hWpYmiXG"
      },
      "outputs": [],
      "source": [
        "list2 = [1, \"two\", 3.05, True]"
      ]
    },
    {
      "cell_type": "code",
      "execution_count": null,
      "metadata": {
        "colab": {
          "base_uri": "https://localhost:8080/"
        },
        "id": "2A-OdSs4m59B",
        "outputId": "22ddb10c-04b0-4a96-f478-65dcd2747a24"
      },
      "outputs": [
        {
          "data": {
            "text/plain": [
              "[1, 'two', 3.05, True]"
            ]
          },
          "execution_count": 23,
          "metadata": {},
          "output_type": "execute_result"
        }
      ],
      "source": [
        "list2"
      ]
    },
    {
      "cell_type": "code",
      "execution_count": null,
      "metadata": {
        "id": "pIt1xt9YnJ2E"
      },
      "outputs": [],
      "source": [
        "list3 = []"
      ]
    },
    {
      "cell_type": "code",
      "execution_count": null,
      "metadata": {
        "colab": {
          "base_uri": "https://localhost:8080/"
        },
        "id": "JkUSE5rFnMmK",
        "outputId": "ddcfa086-9cb6-40cb-a321-ee5972222f5a"
      },
      "outputs": [
        {
          "data": {
            "text/plain": [
              "[]"
            ]
          },
          "execution_count": 26,
          "metadata": {},
          "output_type": "execute_result"
        }
      ],
      "source": [
        "list3"
      ]
    },
    {
      "cell_type": "markdown",
      "metadata": {
        "id": "zE9WTd0HnY6s"
      },
      "source": [
        "## Indexing and slicing a list"
      ]
    },
    {
      "cell_type": "code",
      "execution_count": null,
      "metadata": {
        "colab": {
          "base_uri": "https://localhost:8080/"
        },
        "id": "zyrOHCJcndad",
        "outputId": "df6b7bdc-0178-40c3-dea6-e1a73d1c51e0"
      },
      "outputs": [
        {
          "name": "stdout",
          "output_type": "stream",
          "text": [
            "[1, 4, 7, 9, 'a', 'b', 'c']\n"
          ]
        }
      ],
      "source": [
        "a = [1,4,7,9,'a','b','c']\n",
        "print(a)"
      ]
    },
    {
      "cell_type": "markdown",
      "metadata": {
        "id": "GvEOiAaJntcx"
      },
      "source": [
        "**Imp: Python starts counting at zero**"
      ]
    },
    {
      "cell_type": "code",
      "execution_count": null,
      "metadata": {
        "colab": {
          "base_uri": "https://localhost:8080/"
        },
        "id": "fWW4uZxannek",
        "outputId": "9cb29af6-d0bb-4e81-dc98-cfdb7b614f09"
      },
      "outputs": [
        {
          "data": {
            "text/plain": [
              "1"
            ]
          },
          "execution_count": 29,
          "metadata": {},
          "output_type": "execute_result"
        }
      ],
      "source": [
        "a[0]"
      ]
    },
    {
      "cell_type": "markdown",
      "metadata": {
        "id": "XDwp4ZQ0oFs8"
      },
      "source": [
        "**Imp: In idexing, Python will not return the last index**"
      ]
    },
    {
      "cell_type": "code",
      "execution_count": null,
      "metadata": {
        "colab": {
          "base_uri": "https://localhost:8080/"
        },
        "id": "UcFTNJ0-n5GX",
        "outputId": "2e31bfc5-a495-4849-ed0d-52b10588902c"
      },
      "outputs": [
        {
          "data": {
            "text/plain": [
              "[4, 7, 9]"
            ]
          },
          "execution_count": 30,
          "metadata": {},
          "output_type": "execute_result"
        }
      ],
      "source": [
        "a[1:4]"
      ]
    },
    {
      "cell_type": "code",
      "execution_count": null,
      "metadata": {
        "colab": {
          "base_uri": "https://localhost:8080/"
        },
        "id": "0YfEb5N3oOty",
        "outputId": "4244d6d4-e2ee-42c0-9c20-1260ad64d37d"
      },
      "outputs": [
        {
          "data": {
            "text/plain": [
              "[1, 4]"
            ]
          },
          "execution_count": 31,
          "metadata": {},
          "output_type": "execute_result"
        }
      ],
      "source": [
        "a[0:2]"
      ]
    },
    {
      "cell_type": "code",
      "execution_count": null,
      "metadata": {
        "colab": {
          "base_uri": "https://localhost:8080/"
        },
        "id": "O5rKA7dCoToy",
        "outputId": "76dc03b7-debf-423a-9118-3934d0a23bc8"
      },
      "outputs": [
        {
          "data": {
            "text/plain": [
              "[1, 4, 7]"
            ]
          },
          "execution_count": 32,
          "metadata": {},
          "output_type": "execute_result"
        }
      ],
      "source": [
        "a[:3]"
      ]
    },
    {
      "cell_type": "code",
      "execution_count": null,
      "metadata": {
        "colab": {
          "base_uri": "https://localhost:8080/"
        },
        "id": "8SFAFvhzoW5a",
        "outputId": "7efa8ca3-603d-4583-8cc2-87c6e58157e4"
      },
      "outputs": [
        {
          "data": {
            "text/plain": [
              "[9, 'a', 'b', 'c']"
            ]
          },
          "execution_count": 33,
          "metadata": {},
          "output_type": "execute_result"
        }
      ],
      "source": [
        "a[3:]"
      ]
    },
    {
      "cell_type": "markdown",
      "metadata": {
        "id": "SM6XDTIBo33C"
      },
      "source": [
        "## Common methods used for working with lists"
      ]
    },
    {
      "cell_type": "markdown",
      "metadata": {
        "id": "LS2TZsRto81R"
      },
      "source": [
        "In R, if I had a vector x = c(1, 2, 3) and then I made an addition to it as y = c(x, 4) and I printed y I would get 1,2,3,4.\n",
        "\n",
        "This technique does not work in python. You end up with a nested list if you do this."
      ]
    },
    {
      "cell_type": "code",
      "execution_count": null,
      "metadata": {
        "colab": {
          "base_uri": "https://localhost:8080/"
        },
        "id": "2IKQMKYZpQpO",
        "outputId": "fd795fd7-1eb0-485b-9e07-c580edb2929e"
      },
      "outputs": [
        {
          "name": "stdout",
          "output_type": "stream",
          "text": [
            "[[1, 4, 7, 9, 'a', 'b', 'c'], 100]\n"
          ]
        }
      ],
      "source": [
        "b = [a, 100]\n",
        "print(b)"
      ]
    },
    {
      "cell_type": "code",
      "execution_count": null,
      "metadata": {
        "colab": {
          "base_uri": "https://localhost:8080/"
        },
        "id": "Df5ZCPSkpbyf",
        "outputId": "caf33c18-5b43-41ef-b787-bf5d4a8703a7"
      },
      "outputs": [
        {
          "data": {
            "text/plain": [
              "[1, 4, 7, 9, 'a', 'b', 'c']"
            ]
          },
          "execution_count": 35,
          "metadata": {},
          "output_type": "execute_result"
        }
      ],
      "source": [
        "b[0]"
      ]
    },
    {
      "cell_type": "code",
      "execution_count": null,
      "metadata": {
        "colab": {
          "base_uri": "https://localhost:8080/"
        },
        "id": "COV1eTvGpfkj",
        "outputId": "9c4dc7da-0e24-48a4-db2b-0a7b0799479a"
      },
      "outputs": [
        {
          "data": {
            "text/plain": [
              "100"
            ]
          },
          "execution_count": 36,
          "metadata": {},
          "output_type": "execute_result"
        }
      ],
      "source": [
        "b[1]"
      ]
    },
    {
      "cell_type": "code",
      "execution_count": null,
      "metadata": {
        "colab": {
          "base_uri": "https://localhost:8080/"
        },
        "id": "5fj3tzvwpnGh",
        "outputId": "c2b43433-bef3-418b-d821-e34facf0ed05"
      },
      "outputs": [
        {
          "data": {
            "text/plain": [
              "[1, 4, 7]"
            ]
          },
          "execution_count": 37,
          "metadata": {},
          "output_type": "execute_result"
        }
      ],
      "source": [
        "b[0][0:3]"
      ]
    },
    {
      "cell_type": "code",
      "execution_count": null,
      "metadata": {
        "id": "vTjA_C8hp48Y"
      },
      "outputs": [],
      "source": [
        "# append an element to a vector\n",
        "a.append(100)"
      ]
    },
    {
      "cell_type": "code",
      "execution_count": null,
      "metadata": {
        "colab": {
          "base_uri": "https://localhost:8080/"
        },
        "id": "0O_C3H73qLXg",
        "outputId": "5c0b67c5-eb03-43a8-af02-082a3e830fd3"
      },
      "outputs": [
        {
          "data": {
            "text/plain": [
              "[1, 4, 7, 9, 'a', 'b', 'c', 100, 100]"
            ]
          },
          "execution_count": 40,
          "metadata": {},
          "output_type": "execute_result"
        }
      ],
      "source": [
        "a"
      ]
    },
    {
      "cell_type": "code",
      "execution_count": null,
      "metadata": {
        "colab": {
          "base_uri": "https://localhost:8080/"
        },
        "id": "FjGjtye1qRMs",
        "outputId": "f63a5647-50d8-497a-be9e-39901b23fe87"
      },
      "outputs": [
        {
          "name": "stdout",
          "output_type": "stream",
          "text": [
            "[1, 4, 7, 9, 'a', 'b', 'c', 100, 100, 200, 300, 200, 300]\n"
          ]
        }
      ],
      "source": [
        "a.extend([200,300])\n",
        "print(a)"
      ]
    },
    {
      "cell_type": "code",
      "execution_count": null,
      "metadata": {
        "colab": {
          "base_uri": "https://localhost:8080/"
        },
        "id": "Rw8ZzME0qxqw",
        "outputId": "73584563-a889-4def-e9eb-70048ee7922e"
      },
      "outputs": [
        {
          "name": "stdout",
          "output_type": "stream",
          "text": [
            "[1, 4, 7, 150, 9, 'a', 'b', 'c', 100, 100, 200, 300, 200, 300]\n"
          ]
        }
      ],
      "source": [
        "# What if I want to add an element at a particular index?\n",
        "# Let's say, I want the number 150 at index 3\n",
        "\n",
        "a.insert(3, 150)\n",
        "print(a)"
      ]
    },
    {
      "cell_type": "code",
      "execution_count": null,
      "metadata": {
        "colab": {
          "base_uri": "https://localhost:8080/"
        },
        "id": "zS-FDbqXrFiB",
        "outputId": "560f16fa-2166-44fc-a291-55ae2aaf11a5"
      },
      "outputs": [
        {
          "name": "stdout",
          "output_type": "stream",
          "text": [
            "[1, 4, 7, 9, 'a', 'b', 'c', 100, 100, 200, 300, 200, 300]\n"
          ]
        }
      ],
      "source": [
        "# I can remove a particular value\n",
        "a.remove(150)\n",
        "print(a)"
      ]
    },
    {
      "cell_type": "code",
      "execution_count": null,
      "metadata": {
        "colab": {
          "base_uri": "https://localhost:8080/"
        },
        "id": "P680vmFYrM5x",
        "outputId": "67491586-1fc7-4985-fd09-182f0537b383"
      },
      "outputs": [
        {
          "name": "stdout",
          "output_type": "stream",
          "text": [
            "[5, 4, 7, 9, 'a', 'b', 'c', 100, 100, 200, 300, 200, 300]\n"
          ]
        }
      ],
      "source": [
        "# I can change the value of an element\n",
        "a[0] = 5\n",
        "print(a)"
      ]
    },
    {
      "cell_type": "markdown",
      "metadata": {
        "id": "53mbQtKMstKq"
      },
      "source": [
        "# Tuples"
      ]
    },
    {
      "cell_type": "markdown",
      "metadata": {
        "id": "5Iy76YJBswO7"
      },
      "source": [
        "A tuple is like a list except that it is immutable. Once a tuple is made, you cannot add, delete, or change an item."
      ]
    },
    {
      "cell_type": "code",
      "execution_count": null,
      "metadata": {
        "id": "MaVF2_jcs-qW"
      },
      "outputs": [],
      "source": [
        "tuple1 = (1,4,6,9)"
      ]
    },
    {
      "cell_type": "code",
      "execution_count": null,
      "metadata": {
        "colab": {
          "base_uri": "https://localhost:8080/"
        },
        "id": "4ee0dRq9tFAN",
        "outputId": "de41cda8-e2b6-448b-b5d5-e05e6b6c18ec"
      },
      "outputs": [
        {
          "data": {
            "text/plain": [
              "1"
            ]
          },
          "execution_count": 47,
          "metadata": {},
          "output_type": "execute_result"
        }
      ],
      "source": [
        "tuple1[0]"
      ]
    },
    {
      "cell_type": "code",
      "execution_count": null,
      "metadata": {
        "colab": {
          "base_uri": "https://localhost:8080/"
        },
        "id": "2V6REoDitKnO",
        "outputId": "8a36b835-7a16-4261-9eb6-625f11dd6619"
      },
      "outputs": [
        {
          "data": {
            "text/plain": [
              "(4, 6)"
            ]
          },
          "execution_count": 48,
          "metadata": {},
          "output_type": "execute_result"
        }
      ],
      "source": [
        "tuple1[1:3]"
      ]
    },
    {
      "cell_type": "code",
      "execution_count": null,
      "metadata": {
        "colab": {
          "base_uri": "https://localhost:8080/",
          "height": 141
        },
        "id": "X46vknFdtOqA",
        "outputId": "944a0239-1219-4544-99c4-75e19a83e261"
      },
      "outputs": [
        {
          "ename": "AttributeError",
          "evalue": "'tuple' object has no attribute 'append'",
          "output_type": "error",
          "traceback": [
            "\u001b[0;31m---------------------------------------------------------------------------\u001b[0m",
            "\u001b[0;31mAttributeError\u001b[0m                            Traceback (most recent call last)",
            "\u001b[0;32m/tmp/ipython-input-1751860134.py\u001b[0m in \u001b[0;36m<cell line: 0>\u001b[0;34m()\u001b[0m\n\u001b[0;32m----> 1\u001b[0;31m \u001b[0mtuple1\u001b[0m\u001b[0;34m.\u001b[0m\u001b[0mappend\u001b[0m\u001b[0;34m(\u001b[0m\u001b[0;36m100\u001b[0m\u001b[0;34m)\u001b[0m\u001b[0;34m\u001b[0m\u001b[0;34m\u001b[0m\u001b[0m\n\u001b[0m",
            "\u001b[0;31mAttributeError\u001b[0m: 'tuple' object has no attribute 'append'"
          ]
        }
      ],
      "source": [
        "tuple1.append(100)"
      ]
    },
    {
      "cell_type": "code",
      "execution_count": null,
      "metadata": {
        "colab": {
          "base_uri": "https://localhost:8080/",
          "height": 141
        },
        "id": "dwZzFp_MtVQd",
        "outputId": "28f75010-7578-4f45-eec0-9a78c8a5abcd"
      },
      "outputs": [
        {
          "ename": "TypeError",
          "evalue": "'tuple' object does not support item assignment",
          "output_type": "error",
          "traceback": [
            "\u001b[0;31m---------------------------------------------------------------------------\u001b[0m",
            "\u001b[0;31mTypeError\u001b[0m                                 Traceback (most recent call last)",
            "\u001b[0;32m/tmp/ipython-input-345067431.py\u001b[0m in \u001b[0;36m<cell line: 0>\u001b[0;34m()\u001b[0m\n\u001b[0;32m----> 1\u001b[0;31m \u001b[0mtuple1\u001b[0m\u001b[0;34m[\u001b[0m\u001b[0;36m0\u001b[0m\u001b[0;34m]\u001b[0m \u001b[0;34m=\u001b[0m \u001b[0;36m10\u001b[0m\u001b[0;34m\u001b[0m\u001b[0;34m\u001b[0m\u001b[0m\n\u001b[0m",
            "\u001b[0;31mTypeError\u001b[0m: 'tuple' object does not support item assignment"
          ]
        }
      ],
      "source": [
        "tuple1[0] = 10"
      ]
    },
    {
      "cell_type": "code",
      "execution_count": null,
      "metadata": {
        "colab": {
          "base_uri": "https://localhost:8080/",
          "height": 141
        },
        "id": "byQojbnQtbrc",
        "outputId": "255f8ead-ffb7-49c3-e06c-29fbcf1fb104"
      },
      "outputs": [
        {
          "ename": "AttributeError",
          "evalue": "'tuple' object has no attribute 'remove'",
          "output_type": "error",
          "traceback": [
            "\u001b[0;31m---------------------------------------------------------------------------\u001b[0m",
            "\u001b[0;31mAttributeError\u001b[0m                            Traceback (most recent call last)",
            "\u001b[0;32m/tmp/ipython-input-1951347750.py\u001b[0m in \u001b[0;36m<cell line: 0>\u001b[0;34m()\u001b[0m\n\u001b[0;32m----> 1\u001b[0;31m \u001b[0mtuple1\u001b[0m\u001b[0;34m.\u001b[0m\u001b[0mremove\u001b[0m\u001b[0;34m(\u001b[0m\u001b[0;36m9\u001b[0m\u001b[0;34m)\u001b[0m\u001b[0;34m\u001b[0m\u001b[0;34m\u001b[0m\u001b[0m\n\u001b[0m",
            "\u001b[0;31mAttributeError\u001b[0m: 'tuple' object has no attribute 'remove'"
          ]
        }
      ],
      "source": [
        "tuple1.remove(9)"
      ]
    },
    {
      "cell_type": "code",
      "execution_count": null,
      "metadata": {
        "id": "qElYkV3LtuvJ"
      },
      "outputs": [],
      "source": [
        "tuple2 = ([1,2], [3,4])"
      ]
    },
    {
      "cell_type": "code",
      "execution_count": null,
      "metadata": {
        "colab": {
          "base_uri": "https://localhost:8080/"
        },
        "id": "1iasKk9Yt0E2",
        "outputId": "cf191c6a-716b-4629-dc3f-fa1cc3990da8"
      },
      "outputs": [
        {
          "data": {
            "text/plain": [
              "[1, 2]"
            ]
          },
          "execution_count": 54,
          "metadata": {},
          "output_type": "execute_result"
        }
      ],
      "source": [
        "tuple2[0]"
      ]
    },
    {
      "cell_type": "markdown",
      "metadata": {
        "id": "CXmmSltFt9Ic"
      },
      "source": [
        "# Set\n",
        "\n",
        "Sets are unordered collections of unique items"
      ]
    },
    {
      "cell_type": "code",
      "execution_count": null,
      "metadata": {
        "id": "HbREzpiXuMak"
      },
      "outputs": [],
      "source": [
        "set1 = {1,2,3,4}"
      ]
    },
    {
      "cell_type": "code",
      "execution_count": null,
      "metadata": {
        "colab": {
          "base_uri": "https://localhost:8080/",
          "height": 141
        },
        "id": "rrcqFe0_uQXI",
        "outputId": "59a81e41-ab51-475f-92e5-1a4cbf5b77f3"
      },
      "outputs": [
        {
          "ename": "TypeError",
          "evalue": "'set' object is not subscriptable",
          "output_type": "error",
          "traceback": [
            "\u001b[0;31m---------------------------------------------------------------------------\u001b[0m",
            "\u001b[0;31mTypeError\u001b[0m                                 Traceback (most recent call last)",
            "\u001b[0;32m/tmp/ipython-input-2166654704.py\u001b[0m in \u001b[0;36m<cell line: 0>\u001b[0;34m()\u001b[0m\n\u001b[0;32m----> 1\u001b[0;31m \u001b[0mset1\u001b[0m\u001b[0;34m[\u001b[0m\u001b[0;36m0\u001b[0m\u001b[0;34m]\u001b[0m\u001b[0;34m\u001b[0m\u001b[0;34m\u001b[0m\u001b[0m\n\u001b[0m",
            "\u001b[0;31mTypeError\u001b[0m: 'set' object is not subscriptable"
          ]
        }
      ],
      "source": [
        "set1[0] # Because a set is unordered, there are no indices"
      ]
    },
    {
      "cell_type": "code",
      "execution_count": null,
      "metadata": {
        "colab": {
          "base_uri": "https://localhost:8080/"
        },
        "id": "_dBThwyYuXhF",
        "outputId": "84aa2dec-377e-455f-a6e3-f7566c1f6b4e"
      },
      "outputs": [
        {
          "data": {
            "text/plain": [
              "True"
            ]
          },
          "execution_count": 58,
          "metadata": {},
          "output_type": "execute_result"
        }
      ],
      "source": [
        "4 in set1"
      ]
    },
    {
      "cell_type": "code",
      "execution_count": null,
      "metadata": {
        "colab": {
          "base_uri": "https://localhost:8080/"
        },
        "id": "el4HeQoquaC4",
        "outputId": "6d791f3c-9538-4683-e8c7-7fb43ac3bce4"
      },
      "outputs": [
        {
          "data": {
            "text/plain": [
              "1"
            ]
          },
          "execution_count": 60,
          "metadata": {},
          "output_type": "execute_result"
        }
      ],
      "source": [
        "set1.pop()"
      ]
    },
    {
      "cell_type": "code",
      "execution_count": null,
      "metadata": {
        "colab": {
          "base_uri": "https://localhost:8080/"
        },
        "id": "UQX34Kn2ueIe",
        "outputId": "e59820a5-dc70-4304-8e95-c5a4b86e1ab5"
      },
      "outputs": [
        {
          "data": {
            "text/plain": [
              "{2, 3, 4}"
            ]
          },
          "execution_count": 61,
          "metadata": {},
          "output_type": "execute_result"
        }
      ],
      "source": [
        "set1"
      ]
    },
    {
      "cell_type": "code",
      "execution_count": null,
      "metadata": {
        "colab": {
          "base_uri": "https://localhost:8080/"
        },
        "id": "OFbnzPgquwVv",
        "outputId": "4aa6615a-65eb-48b7-a9e6-1fee824b6fe2"
      },
      "outputs": [
        {
          "name": "stdout",
          "output_type": "stream",
          "text": [
            "{1, 2, 3, 4}\n"
          ]
        }
      ],
      "source": [
        "set2 = set([1,2,3,4,3,4]) # a set cannot have duplicates!\n",
        "print(set2)"
      ]
    },
    {
      "cell_type": "code",
      "execution_count": null,
      "metadata": {
        "colab": {
          "base_uri": "https://localhost:8080/"
        },
        "id": "4ETet1GJvKIr",
        "outputId": "d3844470-68ec-4145-f120-5be03b97426f"
      },
      "outputs": [
        {
          "name": "stdout",
          "output_type": "stream",
          "text": [
            "{1, 2, 3, 4, 5}\n"
          ]
        }
      ],
      "source": [
        "set2.add(5)\n",
        "print(set2)"
      ]
    },
    {
      "cell_type": "code",
      "execution_count": null,
      "metadata": {
        "colab": {
          "base_uri": "https://localhost:8080/"
        },
        "id": "YFVw3bsBvRlq",
        "outputId": "b5a38b3f-3d89-47b5-a1e0-1522c194cdfe"
      },
      "outputs": [
        {
          "name": "stdout",
          "output_type": "stream",
          "text": [
            "{1, 2, 3, 4, 5}\n"
          ]
        }
      ],
      "source": [
        "# Union\n",
        "set1 = {1,2,3}\n",
        "set2 = {2,3,4,5}\n",
        "set_union = set1 | set2\n",
        "print(set_union)"
      ]
    },
    {
      "cell_type": "code",
      "execution_count": null,
      "metadata": {
        "colab": {
          "base_uri": "https://localhost:8080/"
        },
        "id": "ovAARhQOvh5o",
        "outputId": "2952d7ae-f6f1-4cf4-8442-1e4e10308a1a"
      },
      "outputs": [
        {
          "name": "stdout",
          "output_type": "stream",
          "text": [
            "{2, 3}\n"
          ]
        }
      ],
      "source": [
        "# Intersection\n",
        "set1 = {1,2,3}\n",
        "set2 = {2,3,4,5}\n",
        "set_intersection = set1 & set2\n",
        "print(set_intersection)"
      ]
    },
    {
      "cell_type": "code",
      "execution_count": null,
      "metadata": {
        "colab": {
          "base_uri": "https://localhost:8080/"
        },
        "id": "MNhFhW1ivzny",
        "outputId": "87a314e3-5fb1-4101-f01e-be92e6fd6446"
      },
      "outputs": [
        {
          "name": "stdout",
          "output_type": "stream",
          "text": [
            "{1}\n",
            "{4, 5}\n"
          ]
        }
      ],
      "source": [
        "# Set Difference\n",
        "set1 = {1,2,3}\n",
        "set2 = {2,3,4,5}\n",
        "set_diff = set1 - set2\n",
        "print(set_diff)\n",
        "set_diff2 = set2 - set1\n",
        "print(set_diff2)"
      ]
    },
    {
      "cell_type": "code",
      "execution_count": null,
      "metadata": {
        "colab": {
          "base_uri": "https://localhost:8080/"
        },
        "id": "Vw6iYdeCwK4T",
        "outputId": "50fc94d7-568a-49d1-a804-4697ea60b561"
      },
      "outputs": [
        {
          "name": "stdout",
          "output_type": "stream",
          "text": [
            "{1, 4, 5}\n"
          ]
        }
      ],
      "source": [
        "# Symmetric Difference\n",
        "set1 = {1,2,3}\n",
        "set2 = {2,3,4,5}\n",
        "set_symmetric_diff = set1 ^ set2\n",
        "print(set_symmetric_diff)"
      ]
    },
    {
      "cell_type": "markdown",
      "metadata": {
        "id": "vhj_02VWmTgz"
      },
      "source": []
    }
  ],
  "metadata": {
    "colab": {
      "authorship_tag": "ABX9TyPxZMDkfm0FqpZewke8i3PZ",
      "collapsed_sections": [
        "lUGaAP9JhrKr",
        "5XchRlephgCE",
        "UrN1SrUajE-k",
        "7PGnWzlaj0uK"
      ],
      "include_colab_link": true,
      "provenance": []
    },
    "kernelspec": {
      "display_name": "Python 3",
      "name": "python3"
    },
    "language_info": {
      "name": "python"
    }
  },
  "nbformat": 4,
  "nbformat_minor": 0
}
